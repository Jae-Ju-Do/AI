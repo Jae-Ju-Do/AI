{
  "nbformat": 4,
  "nbformat_minor": 0,
  "metadata": {
    "colab": {
      "provenance": []
    },
    "kernelspec": {
      "name": "python3",
      "display_name": "Python 3"
    },
    "language_info": {
      "name": "python"
    }
  },
  "cells": [
    {
      "cell_type": "code",
      "execution_count": null,
      "metadata": {
        "id": "6hkLhdqksekB"
      },
      "outputs": [],
      "source": [
        "# Google Colab에서 파일 업로드\n",
        "from google.colab import files\n",
        "import pandas as pd\n",
        "import io\n",
        "\n",
        "# 파일 업로드 실행\n",
        "uploaded = files.upload()\n",
        "\n",
        "# 업로드된 파일명 가져오기\n",
        "file_name = list(uploaded.keys())[0]\n",
        "\n",
        "# CSV 파일 로드\n",
        "df = pd.read_csv(io.BytesIO(uploaded[file_name]))\n",
        "\n",
        "# 데이터 확인\n",
        "print(\"✅ 데이터 확인:\")\n",
        "print(df.head())\n"
      ]
    },
    {
      "cell_type": "code",
      "source": [
        "from sklearn.model_selection import train_test_split\n",
        "from sklearn.preprocessing import StandardScaler\n",
        "\n",
        "# file_name 컬럼 제외하고 학습 데이터 생성\n",
        "X = df.drop(columns=[\"file_name\"]).values  # file_name 제거\n",
        "y = df[\"type\"].values  # 라벨 (0,1,2,3)\n",
        "\n",
        "# 데이터를 학습용(train)과 테스트용(test)으로 분할 (80:20 비율)\n",
        "X_train, X_test, y_train, y_test = train_test_split(X, y, test_size=0.2, random_state=42)\n",
        "\n",
        "# 데이터 정규화 (StandardScaler 적용)\n",
        "scaler = StandardScaler()\n",
        "X_train = scaler.fit_transform(X_train)\n",
        "X_test = scaler.transform(X_test)\n",
        "\n",
        "print(\"✅ 데이터 전처리 완료\")\n"
      ],
      "metadata": {
        "id": "XHO-nqTCsjmH"
      },
      "execution_count": null,
      "outputs": []
    },
    {
      "cell_type": "code",
      "source": [
        "import tensorflow as tf\n",
        "from tensorflow.keras.models import Sequential\n",
        "from tensorflow.keras.layers import Dense\n",
        "\n",
        "# 모델 생성\n",
        "model = Sequential([\n",
        "    Dense(16, activation='relu', input_shape=(X_train.shape[1],)),  # 입력층\n",
        "    Dense(32, activation='relu'),  # 은닉층\n",
        "    Dense(4, activation='softmax')  # 출력층 (4개의 클래스 → 다중 분류)\n",
        "])\n",
        "\n",
        "# 모델 컴파일\n",
        "model.compile(optimizer='adam',\n",
        "              loss='sparse_categorical_crossentropy',  # 다중 클래스 분류 손실 함수\n",
        "              metrics=['accuracy'])\n",
        "\n",
        "# 모델 요약 출력\n",
        "model.summary()\n"
      ],
      "metadata": {
        "id": "TtrImo2GsmDU"
      },
      "execution_count": null,
      "outputs": []
    },
    {
      "cell_type": "code",
      "source": [
        "# 모델 학습\n",
        "history = model.fit(X_train, y_train, epochs=50, batch_size=2, validation_data=(X_test, y_test))\n",
        "\n",
        "# 학습 완료 후 모델 저장\n",
        "model.save(\"malware_classification_model.h5\")\n",
        "\n",
        "print(\"✅ 모델 학습 및 저장 완료\")\n"
      ],
      "metadata": {
        "id": "G5LKwfiksn7D"
      },
      "execution_count": null,
      "outputs": []
    },
    {
      "cell_type": "code",
      "source": [
        "import matplotlib.pyplot as plt\n",
        "\n",
        "# 정확도 시각화\n",
        "plt.plot(history.history['accuracy'], label='Train Accuracy')\n",
        "plt.plot(history.history['val_accuracy'], label='Validation Accuracy')\n",
        "plt.xlabel('Epochs')\n",
        "plt.ylabel('Accuracy')\n",
        "plt.legend()\n",
        "plt.title('Model Accuracy')\n",
        "plt.show()\n",
        "\n",
        "# 손실값 시각화\n",
        "plt.plot(history.history['loss'], label='Train Loss')\n",
        "plt.plot(history.history['val_loss'], label='Validation Loss')\n",
        "plt.xlabel('Epochs')\n",
        "plt.ylabel('Loss')\n",
        "plt.legend()\n",
        "plt.title('Model Loss')\n",
        "plt.show()\n"
      ],
      "metadata": {
        "id": "PJbGHX59sqhZ"
      },
      "execution_count": null,
      "outputs": []
    },
    {
      "cell_type": "code",
      "source": [
        "import numpy as np\n",
        "\n",
        "# 모델 평가\n",
        "test_loss, test_acc = model.evaluate(X_test, y_test)\n",
        "print(f\"\\n✅ 테스트 정확도: {test_acc:.4f}\")\n",
        "\n",
        "# 샘플 데이터 예측\n",
        "sample_input = X_test[:5]\n",
        "predictions = model.predict(sample_input)\n",
        "predicted_classes = np.argmax(predictions, axis=1)\n",
        "\n",
        "print(\"\\n실제 라벨:\", y_test[:5])\n",
        "print(\"예측 라벨:\", predicted_classes)\n"
      ],
      "metadata": {
        "id": "6qvH77F7stze"
      },
      "execution_count": null,
      "outputs": []
    }
  ]
}